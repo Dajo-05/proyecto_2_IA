{
 "cells": [
  {
   "cell_type": "code",
   "execution_count": 2,
   "metadata": {},
   "outputs": [
    {
     "name": "stderr",
     "output_type": "stream",
     "text": [
      "Using TensorFlow backend.\n"
     ]
    }
   ],
   "source": [
    "#import numpy as np\n",
    "import pandas as pd\n",
    "import matplotlib.pyplot as plt\n",
    "from sklearn import tree\n",
    "from mpl_toolkits.mplot3d import Axes3D\n",
    "#red neuronal con skearn\n",
    "from sklearn.neural_network import MLPClassifier\n",
    "from sklearn.preprocessing import StandardScaler\n",
    "from sklearn.naive_bayes import GaussianNB\n",
    "from sklearn.metrics import confusion_matrix\n",
    "# red neuronal con keras\n",
    "from keras.models import Sequential\n",
    "from keras.layers import Dense\n",
    "import seaborn as sns\n",
    "import warnings\n",
    "\n",
    "warnings.filterwarnings('ignore')\n",
    "sns.set()\n",
    "gnb = GaussianNB()\n",
    "\n"
   ]
  },
  {
   "cell_type": "code",
   "execution_count": 3,
   "metadata": {},
   "outputs": [],
   "source": [
    "Corazon = pd.read_csv(\"HeartDisease.csv\")\n"
   ]
  },
  {
   "cell_type": "code",
   "execution_count": 4,
   "metadata": {},
   "outputs": [
    {
     "data": {
      "text/plain": [
       "(457, 13)"
      ]
     },
     "execution_count": 4,
     "metadata": {},
     "output_type": "execute_result"
    }
   ],
   "source": [
    "Corazon.shape"
   ]
  },
  {
   "cell_type": "code",
   "execution_count": 5,
   "metadata": {},
   "outputs": [
    {
     "data": {
      "text/html": [
       "<div>\n",
       "<style scoped>\n",
       "    .dataframe tbody tr th:only-of-type {\n",
       "        vertical-align: middle;\n",
       "    }\n",
       "\n",
       "    .dataframe tbody tr th {\n",
       "        vertical-align: top;\n",
       "    }\n",
       "\n",
       "    .dataframe thead th {\n",
       "        text-align: right;\n",
       "    }\n",
       "</style>\n",
       "<table border=\"1\" class=\"dataframe\">\n",
       "  <thead>\n",
       "    <tr style=\"text-align: right;\">\n",
       "      <th></th>\n",
       "      <th>ID</th>\n",
       "      <th>Age</th>\n",
       "      <th>Sex</th>\n",
       "      <th>cp</th>\n",
       "      <th>trestbps</th>\n",
       "      <th>chol</th>\n",
       "      <th>fbs</th>\n",
       "      <th>restecg</th>\n",
       "      <th>thalach</th>\n",
       "      <th>exang</th>\n",
       "      <th>oldpeak</th>\n",
       "      <th>num</th>\n",
       "      <th>Place</th>\n",
       "    </tr>\n",
       "  </thead>\n",
       "  <tbody>\n",
       "    <tr>\n",
       "      <th>0</th>\n",
       "      <td>1</td>\n",
       "      <td>28</td>\n",
       "      <td>1</td>\n",
       "      <td>2</td>\n",
       "      <td>130.0</td>\n",
       "      <td>132.0</td>\n",
       "      <td>0.0</td>\n",
       "      <td>2.0</td>\n",
       "      <td>185.0</td>\n",
       "      <td>0.0</td>\n",
       "      <td>0.0</td>\n",
       "      <td>0</td>\n",
       "      <td>Hungary</td>\n",
       "    </tr>\n",
       "    <tr>\n",
       "      <th>1</th>\n",
       "      <td>2</td>\n",
       "      <td>29</td>\n",
       "      <td>1</td>\n",
       "      <td>2</td>\n",
       "      <td>120.0</td>\n",
       "      <td>243.0</td>\n",
       "      <td>0.0</td>\n",
       "      <td>0.0</td>\n",
       "      <td>160.0</td>\n",
       "      <td>0.0</td>\n",
       "      <td>0.0</td>\n",
       "      <td>0</td>\n",
       "      <td>Hungary</td>\n",
       "    </tr>\n",
       "    <tr>\n",
       "      <th>2</th>\n",
       "      <td>3</td>\n",
       "      <td>29</td>\n",
       "      <td>1</td>\n",
       "      <td>2</td>\n",
       "      <td>140.0</td>\n",
       "      <td>NaN</td>\n",
       "      <td>0.0</td>\n",
       "      <td>0.0</td>\n",
       "      <td>170.0</td>\n",
       "      <td>0.0</td>\n",
       "      <td>0.0</td>\n",
       "      <td>0</td>\n",
       "      <td>Hungary</td>\n",
       "    </tr>\n",
       "    <tr>\n",
       "      <th>3</th>\n",
       "      <td>4</td>\n",
       "      <td>30</td>\n",
       "      <td>0</td>\n",
       "      <td>1</td>\n",
       "      <td>170.0</td>\n",
       "      <td>237.0</td>\n",
       "      <td>0.0</td>\n",
       "      <td>1.0</td>\n",
       "      <td>170.0</td>\n",
       "      <td>0.0</td>\n",
       "      <td>0.0</td>\n",
       "      <td>0</td>\n",
       "      <td>Hungary</td>\n",
       "    </tr>\n",
       "    <tr>\n",
       "      <th>4</th>\n",
       "      <td>5</td>\n",
       "      <td>31</td>\n",
       "      <td>0</td>\n",
       "      <td>2</td>\n",
       "      <td>100.0</td>\n",
       "      <td>219.0</td>\n",
       "      <td>0.0</td>\n",
       "      <td>1.0</td>\n",
       "      <td>150.0</td>\n",
       "      <td>0.0</td>\n",
       "      <td>0.0</td>\n",
       "      <td>0</td>\n",
       "      <td>Hungary</td>\n",
       "    </tr>\n",
       "  </tbody>\n",
       "</table>\n",
       "</div>"
      ],
      "text/plain": [
       "   ID  Age  Sex  cp  trestbps   chol  fbs  restecg  thalach  exang  oldpeak  \\\n",
       "0   1   28    1   2     130.0  132.0  0.0      2.0    185.0    0.0      0.0   \n",
       "1   2   29    1   2     120.0  243.0  0.0      0.0    160.0    0.0      0.0   \n",
       "2   3   29    1   2     140.0    NaN  0.0      0.0    170.0    0.0      0.0   \n",
       "3   4   30    0   1     170.0  237.0  0.0      1.0    170.0    0.0      0.0   \n",
       "4   5   31    0   2     100.0  219.0  0.0      1.0    150.0    0.0      0.0   \n",
       "\n",
       "   num    Place  \n",
       "0    0  Hungary  \n",
       "1    0  Hungary  \n",
       "2    0  Hungary  \n",
       "3    0  Hungary  \n",
       "4    0  Hungary  "
      ]
     },
     "execution_count": 5,
     "metadata": {},
     "output_type": "execute_result"
    }
   ],
   "source": [
    "Corazon.head()"
   ]
  },
  {
   "cell_type": "markdown",
   "metadata": {},
   "source": [
    "# Definimos la variables Categoricas y Numericas"
   ]
  },
  {
   "cell_type": "code",
   "execution_count": 22,
   "metadata": {},
   "outputs": [],
   "source": [
    "\n",
    "var_numericas = Corazon[['Age','cp','trestbps','chol','fbs','restecg','thalach','exang','oldpeak']]\n",
    "categoricas = Corazon[['Sex', 'Place', 'num']]"
   ]
  },
  {
   "cell_type": "markdown",
   "metadata": {},
   "source": [
    "# Histogramas "
   ]
  },
  {
   "cell_type": "code",
   "execution_count": 7,
   "metadata": {},
   "outputs": [
    {
     "data": {
      "image/png": "[encoded data removed]",
      "text/plain": [
       "<Figure size 1080x864 with 9 Axes>"
      ]
     },
     "metadata": {
      "needs_background": "light"
     },
     "output_type": "display_data"
    }
   ],
   "source": [
    "var_numericas.hist(figsize=(15,12), bins = 20, color=\"#007959AA\" )\n",
    "plt.title(\"Dsitribucion de datos\")\n",
    "plt.show()"
   ]
  },
  {
   "cell_type": "markdown",
   "metadata": {},
   "source": [
    "# Tortas"
   ]
  },
  {
   "cell_type": "code",
   "execution_count": 18,
   "metadata": {},
   "outputs": [
    {
     "data": {
      "image/png": "[encoded data removed]",
      "text/plain": [
       "<Figure size 432x288 with 1 Axes>"
      ]
     },
     "metadata": {},
     "output_type": "display_data"
    },
    {
     "data": {
      "image/png": "[encoded data removed]",
      "text/plain": [
       "<Figure size 432x288 with 1 Axes>"
      ]
     },
     "metadata": {},
     "output_type": "display_data"
    },
    {
     "data": {
      "image/png": "[encoded data removed]",
      "text/plain": [
       "<Figure size 432x288 with 1 Axes>"
      ]
     },
     "metadata": {},
     "output_type": "display_data"
    }
   ],
   "source": [
    "h = categoricas['Sex'][categoricas['Sex'] == 1].count()\n",
    "m = categoricas['Sex'][categoricas['Sex']== 0].count()\n",
    "Sex = [h,m]\n",
    "plt.pie(ca, colors=['red','purple',], labels=['Hombres', 'Mujeres'],autopct='%1.1f%%')\n",
    "plt.title('Porcentaje de Hombres')\n",
    "\n",
    "plt.show()\n",
    "\n",
    "lh = categoricas['Place'][categoricas['Place'] == 'Hungary'].count()\n",
    "ls = categoricas['Place'][categoricas['Place'] == 'Switzerland'].count()\n",
    "lv = categoricas['Place'][categoricas['Place'] == 'VA'].count()\n",
    "\n",
    "pls = [lh,ls, lv]\n",
    "plt.pie(pls, colors='rby', labels=['Hungary', 'Switzerland', 'VA'],autopct='%1.1f%%')\n",
    "plt.title('Porcenje de de lugares')\n",
    "\n",
    "plt.show()\n",
    "\n",
    "e = categoricas['num'][categoricas['num'] == 1].count()\n",
    "e1 = categoricas['num'][categoricas['num'] == 0].count()\n",
    "em = [e, e1]\n",
    "\n",
    "plt.pie(em, colors='rby', labels=['Con Emfermedad Cardiaca', 'Sin Emfermedad Cardiaca'],autopct='%1.1f%%')\n",
    "plt.title('Porcenje de Personas Con Emfermedad')\n",
    "\n",
    "plt.show()\n"
   ]
  },
  {
   "cell_type": "markdown",
   "metadata": {},
   "source": [
    "# Depuración de datos"
   ]
  },
  {
   "cell_type": "code",
   "execution_count": 25,
   "metadata": {
    "scrolled": true
   },
   "outputs": [],
   "source": [
    "# Tomanos los Dataframes Corazon (conjunto de entremaniento), prueba (conjunto de prueba)\n",
    "# Formateamos los datos que esten vacios en el conjunto de entrenamiento y prueba\n",
    "# hacemos copias para para entrenar el arbol de desición tomando como valor de predición\n",
    "# la colomuna Num como variables objetiva para realizar la clasificación de la enfermedad cardiaca\n",
    "\n",
    "# elimanamos los registros vacio o nulos de los conjuntos de pruebas\n",
    "\n",
    "from sklearn.model_selection import train_test_split\n",
    "\n",
    "Corazon = Corazon.dropna()\n",
    "\n",
    "\n",
    "Corazon['Place'][Corazon['Place'] == 'Hungary'] = 0\n",
    "Corazon['Place'][Corazon['Place'] == 'Switzerland'] = 1\n",
    "Corazon['Place'][Corazon['Place'] == 'VA'] = 2"
   ]
  },
  {
   "cell_type": "markdown",
   "metadata": {},
   "source": [
    "# División de datos"
   ]
  },
  {
   "cell_type": "code",
   "execution_count": 26,
   "metadata": {},
   "outputs": [],
   "source": [
    "#se Crea los areglos nummpy objetivo (unidimensional) y atributos(multidimensional).\n",
    "\n",
    "objetivo = Corazon['num'].values\n",
    "atributos = Corazon[['Age','Sex','cp','trestbps','chol','fbs','restecg','thalach','exang','oldpeak', 'Place']].values\n",
    "\n",
    "#se divide en 80% para entrenamiento y 20% para prueba \n",
    "trainX, testX, trainY, testY = train_test_split(atributos,objetivo, test_size = 0.2 )"
   ]
  },
  {
   "cell_type": "markdown",
   "metadata": {},
   "source": [
    "# Primera predicion  con sobre ajuste"
   ]
  },
  {
   "cell_type": "markdown",
   "metadata": {},
   "source": [
    "Aqui hacemos una primera predicción con árboles de desición con sobre ajuste el resultado es que da un 100%  con respecto\n",
    "a la variable num"
   ]
  },
  {
   "cell_type": "code",
   "execution_count": 8,
   "metadata": {},
   "outputs": [
    {
     "name": "stdout",
     "output_type": "stream",
     "text": [
      "1.0\n",
      "[0.11498536 0.01726004 0.09582955 0.13602253 0.14617968 0.03110834\n",
      " 0.02973235 0.12540254 0.24638034 0.05144994 0.00564934]\n"
     ]
    }
   ],
   "source": [
    "arbol = tree.DecisionTreeClassifier()\n",
    "arbol = arbol.fit(atributos, objetivo)\n",
    "\n",
    "print(arbol.score(atributos, objetivo))\n",
    "print(arbol.feature_importances_)"
   ]
  },
  {
   "cell_type": "markdown",
   "metadata": {},
   "source": [
    "# Segunda predicción sin sobre ajuste"
   ]
  },
  {
   "cell_type": "markdown",
   "metadata": {},
   "source": [
    "Aqui hacemos una segunda predicción con árboles de desición sin sobre ajuste el resultado varia en porcentaje con respecto a la variable num"
   ]
  },
  {
   "cell_type": "code",
   "execution_count": 11,
   "metadata": {},
   "outputs": [
    {
     "name": "stdout",
     "output_type": "stream",
     "text": [
      "0.8391812865497076\n"
     ]
    }
   ],
   "source": [
    "arbol_2 =  tree.DecisionTreeClassifier(max_depth = 5, min_samples_split = 20, random_state = 1)\n",
    "arbol_2 = arbol_2.fit(atributos, objetivo)\n",
    "\n",
    "print(arbol_2.score(atributos, objetivo))"
   ]
  },
  {
   "cell_type": "markdown",
   "metadata": {},
   "source": [
    "# Prediccion datos de conjunto de entremaniento y prueba"
   ]
  },
  {
   "cell_type": "code",
   "execution_count": 27,
   "metadata": {},
   "outputs": [
    {
     "name": "stdout",
     "output_type": "stream",
     "text": [
      "Resultado conjunto de entrenamiento 92.31%\n",
      "Resultado del conjunto de prueba 66.67%\n"
     ]
    }
   ],
   "source": [
    "arbol_3 =  tree.DecisionTreeClassifier(max_depth = 8, min_samples_split = 8 , random_state = 1)\n",
    "arbol_3 = arbol_3.fit(trainX, trainY)\n",
    "\n",
    "# Score del conjunto de entrenamiento.\n",
    "resultado1 = arbol_3.score(trainX, trainY)\n",
    "print(\"Resultado conjunto de entrenamiento %.2f%%\" % (resultado1 * 100.0))\n",
    "# Score del conjunto de Pruebas\n",
    "resultado2 = arbol_3.score( testX, testY)\n",
    "print(\"Resultado del conjunto de prueba %.2f%%\" % (resultado2 * 100.0))\n"
   ]
  },
  {
   "cell_type": "markdown",
   "metadata": {},
   "source": [
    "# Modelo Naive Bayes"
   ]
  },
  {
   "cell_type": "code",
   "execution_count": 29,
   "metadata": {},
   "outputs": [
    {
     "name": "stdout",
     "output_type": "stream",
     "text": [
      "Resultado conjunto de entrenamiento 79.49%\n",
      "Resultado del conjunto de prueba 72.46%\n"
     ]
    }
   ],
   "source": [
    "bayes = gnb.fit(trainX, trainY)\n",
    "\n",
    "## Score del conjunto de entremaniento.\n",
    "score_bayes1 = bayes.score(trainX, trainY)\n",
    "print(\"Resultado conjunto de entrenamiento %.2f%%\" % (score_bayes1 * 100.0))\n",
    "# Score del conjunto de prueba\n",
    "score_bayes2 = bayes.score(testX, testY)\n",
    "print(\"Resultado del conjunto de prueba %.2f%%\" % (score_bayes2 * 100.0))"
   ]
  },
  {
   "cell_type": "markdown",
   "metadata": {},
   "source": [
    "# Redes Neuronales"
   ]
  },
  {
   "cell_type": "markdown",
   "metadata": {},
   "source": [
    "# Red Neuronal con Sklearn"
   ]
  },
  {
   "cell_type": "code",
   "execution_count": 31,
   "metadata": {},
   "outputs": [
    {
     "name": "stdout",
     "output_type": "stream",
     "text": [
      "entrenamiento\n",
      "0.9743589743589743\n",
      "prueba\n",
      "0.6521739130434783\n"
     ]
    }
   ],
   "source": [
    "scaler = StandardScaler()\n",
    "#hacemos una copia de trianX y testX \n",
    "train_x = trainX.copy()\n",
    "test_x = testX.copy()\n",
    "\n",
    "scaler.fit(trainX)\n",
    "# aplicamos la transformaicon a trian_x y test_x\n",
    "train_x = scaler.transform(train_x)\n",
    "test_x = scaler.transform(test_x)\n",
    "\n",
    "neuronal_sk = MLPClassifier(hidden_layer_sizes=(10,2,3), activation='relu', solver='lbfgs', max_iter=200, random_state=10)\n",
    "\n",
    "neuronal_sk.fit(train_x, trainY) \n",
    "\n",
    "print(\"entrenamiento\")\n",
    "print(neuronal_sk.score(train_x, trainY))\n",
    "\n",
    "print(\"prueba\")\n",
    "print(neuronal_sk.score(test_x, testY))\n",
    "\n"
   ]
  },
  {
   "cell_type": "markdown",
   "metadata": {},
   "source": [
    "#  Red neuronal con Keras"
   ]
  },
  {
   "cell_type": "code",
   "execution_count": 31,
   "metadata": {},
   "outputs": [
    {
     "name": "stderr",
     "output_type": "stream",
     "text": [
      "WARNING: Logging before flag parsing goes to stderr.\n",
      "W0913 19:22:58.870009  6808 deprecation_wrapper.py:119] From C:\\Users\\DAVIS\\Anaconda3\\lib\\site-packages\\keras\\backend\\tensorflow_backend.py:66: The name tf.get_default_graph is deprecated. Please use tf.compat.v1.get_default_graph instead.\n",
      "\n",
      "W0913 19:22:59.457493  6808 deprecation_wrapper.py:119] From C:\\Users\\DAVIS\\Anaconda3\\lib\\site-packages\\keras\\backend\\tensorflow_backend.py:541: The name tf.placeholder is deprecated. Please use tf.compat.v1.placeholder instead.\n",
      "\n",
      "W0913 19:22:59.574920  6808 deprecation_wrapper.py:119] From C:\\Users\\DAVIS\\Anaconda3\\lib\\site-packages\\keras\\backend\\tensorflow_backend.py:4432: The name tf.random_uniform is deprecated. Please use tf.random.uniform instead.\n",
      "\n",
      "W0913 19:22:59.773247  6808 deprecation_wrapper.py:119] From C:\\Users\\DAVIS\\Anaconda3\\lib\\site-packages\\keras\\optimizers.py:793: The name tf.train.Optimizer is deprecated. Please use tf.compat.v1.train.Optimizer instead.\n",
      "\n",
      "W0913 19:22:59.836150  6808 deprecation_wrapper.py:119] From C:\\Users\\DAVIS\\Anaconda3\\lib\\site-packages\\keras\\backend\\tensorflow_backend.py:3657: The name tf.log is deprecated. Please use tf.math.log instead.\n",
      "\n",
      "W0913 19:22:59.850154  6808 deprecation.py:323] From C:\\Users\\DAVIS\\Anaconda3\\lib\\site-packages\\tensorflow\\python\\ops\\nn_impl.py:180: add_dispatch_support.<locals>.wrapper (from tensorflow.python.ops.array_ops) is deprecated and will be removed in a future version.\n",
      "Instructions for updating:\n",
      "Use tf.where in 2.0, which has the same broadcast rule as np.where\n"
     ]
    }
   ],
   "source": [
    "# Creamos nuestra red neuronal\n",
    "red_keras = Sequential()\n",
    "# se crea la primera capa con 11 entradas y 12 neuronas en la capa oculta\n",
    "red_keras.add(Dense(12, input_dim=11, activation='relu'))\n",
    "# segunda capa con 8 neuronas\n",
    "red_keras.add(Dense(8, activation='relu'))\n",
    "# capa de salida con 1 sola neurona\n",
    "red_keras.add(Dense(1, activation='sigmoid'))\n",
    "\n",
    "# Compilación del modelo\n",
    "red_keras.compile(loss='binary_crossentropy', optimizer='adam', metrics=['accuracy'])"
   ]
  },
  {
   "cell_type": "markdown",
   "metadata": {},
   "source": [
    "# Ajuste del modelo keras "
   ]
  },
  {
   "cell_type": "code",
   "execution_count": 32,
   "metadata": {},
   "outputs": [
    {
     "name": "stderr",
     "output_type": "stream",
     "text": [
      "W0913 19:23:06.583542  6808 deprecation_wrapper.py:119] From C:\\Users\\DAVIS\\Anaconda3\\lib\\site-packages\\keras\\backend\\tensorflow_backend.py:1033: The name tf.assign_add is deprecated. Please use tf.compat.v1.assign_add instead.\n",
      "\n"
     ]
    },
    {
     "name": "stdout",
     "output_type": "stream",
     "text": [
      "Epoch 1/20\n",
      "273/273 [==============================] - 4s 14ms/step - loss: 7.2030 - acc: 0.5531\n",
      "Epoch 2/20\n",
      "273/273 [==============================] - 0s 594us/step - loss: 7.2030 - acc: 0.5531\n",
      "Epoch 3/20\n",
      "273/273 [==============================] - 0s 572us/step - loss: 7.2030 - acc: 0.5531\n",
      "Epoch 4/20\n",
      "273/273 [==============================] - 0s 546us/step - loss: 7.2030 - acc: 0.5531\n",
      "Epoch 5/20\n",
      "273/273 [==============================] - 0s 550us/step - loss: 7.2030 - acc: 0.5531\n",
      "Epoch 6/20\n",
      "273/273 [==============================] - 0s 586us/step - loss: 7.2030 - acc: 0.5531\n",
      "Epoch 7/20\n",
      "273/273 [==============================] - 0s 561us/step - loss: 7.2030 - acc: 0.5531\n",
      "Epoch 8/20\n",
      "273/273 [==============================] - 0s 546us/step - loss: 7.2030 - acc: 0.5531\n",
      "Epoch 9/20\n",
      "273/273 [==============================] - 0s 553us/step - loss: 7.2030 - acc: 0.5531\n",
      "Epoch 10/20\n",
      "273/273 [==============================] - 0s 553us/step - loss: 7.2030 - acc: 0.5531\n",
      "Epoch 11/20\n",
      "273/273 [==============================] - 0s 550us/step - loss: 7.2030 - acc: 0.5531\n",
      "Epoch 12/20\n",
      "273/273 [==============================] - 0s 561us/step - loss: 7.2030 - acc: 0.5531\n",
      "Epoch 13/20\n",
      "273/273 [==============================] - 0s 546us/step - loss: 7.2030 - acc: 0.5531\n",
      "Epoch 14/20\n",
      "273/273 [==============================] - 0s 575us/step - loss: 7.2030 - acc: 0.5531\n",
      "Epoch 15/20\n",
      "273/273 [==============================] - 0s 568us/step - loss: 7.2030 - acc: 0.5531\n",
      "Epoch 16/20\n",
      "273/273 [==============================] - 0s 594us/step - loss: 7.2030 - acc: 0.5531\n",
      "Epoch 17/20\n",
      "273/273 [==============================] - 0s 594us/step - loss: 7.2030 - acc: 0.5531\n",
      "Epoch 18/20\n",
      "273/273 [==============================] - 0s 557us/step - loss: 7.2030 - acc: 0.5531\n",
      "Epoch 19/20\n",
      "273/273 [==============================] - 0s 619us/step - loss: 7.2030 - acc: 0.5531\n",
      "Epoch 20/20\n",
      "273/273 [==============================] - 0s 601us/step - loss: 7.2030 - acc: 0.5531\n",
      "273/273 [==============================] - 1s 2ms/step\n",
      "\n",
      " redes entremaniento keras acc: 55.31%\n",
      "[0.0, 0.0, 0.0, 0.0, 0.0, 0.0, 0.0, 0.0, 0.0, 0.0, 0.0, 0.0, 0.0, 0.0, 0.0, 0.0, 0.0, 0.0, 0.0, 0.0, 0.0, 0.0, 0.0, 0.0, 0.0, 0.0, 0.0, 0.0, 0.0, 0.0, 0.0, 0.0, 0.0, 0.0, 0.0, 0.0, 0.0, 0.0, 0.0, 0.0, 0.0, 0.0, 0.0, 0.0, 0.0, 0.0, 0.0, 0.0, 0.0, 0.0, 0.0, 0.0, 0.0, 0.0, 0.0, 0.0, 0.0, 0.0, 0.0, 0.0, 0.0, 0.0, 0.0, 0.0, 0.0, 0.0, 0.0, 0.0, 0.0, 0.0, 0.0, 0.0, 0.0, 0.0, 0.0, 0.0, 0.0, 0.0, 0.0, 0.0, 0.0, 0.0, 0.0, 0.0, 0.0, 0.0, 0.0, 0.0, 0.0, 0.0, 0.0, 0.0, 0.0, 0.0, 0.0, 0.0, 0.0, 0.0, 0.0, 0.0, 0.0, 0.0, 0.0, 0.0, 0.0, 0.0, 0.0, 0.0, 0.0, 0.0, 0.0, 0.0, 0.0, 0.0, 0.0, 0.0, 0.0, 0.0, 0.0, 0.0, 0.0, 0.0, 0.0, 0.0, 0.0, 0.0, 0.0, 0.0, 0.0, 0.0, 0.0, 0.0, 0.0, 0.0, 0.0, 0.0, 0.0, 0.0, 0.0, 0.0, 0.0, 0.0, 0.0, 0.0, 0.0, 0.0, 0.0, 0.0, 0.0, 0.0, 0.0, 0.0, 0.0, 0.0, 0.0, 0.0, 0.0, 0.0, 0.0, 0.0, 0.0, 0.0, 0.0, 0.0, 0.0, 0.0, 0.0, 0.0, 0.0, 0.0, 0.0, 0.0, 0.0, 0.0, 0.0, 0.0, 0.0, 0.0, 0.0, 0.0, 0.0, 0.0, 0.0, 0.0, 0.0, 0.0, 0.0, 0.0, 0.0, 0.0, 0.0, 0.0, 0.0, 0.0, 0.0, 0.0, 0.0, 0.0, 0.0, 0.0, 0.0, 0.0, 0.0, 0.0, 0.0, 0.0, 0.0, 0.0, 0.0, 0.0, 0.0, 0.0, 0.0, 0.0, 0.0, 0.0, 0.0, 0.0, 0.0, 0.0, 0.0, 0.0, 0.0, 0.0, 0.0, 0.0, 0.0, 0.0, 0.0, 0.0, 0.0, 0.0, 0.0, 0.0, 0.0, 0.0, 0.0, 0.0, 0.0, 0.0, 0.0, 0.0, 0.0, 0.0, 0.0, 0.0, 0.0, 0.0, 0.0, 0.0, 0.0, 0.0, 0.0, 0.0, 0.0, 0.0, 0.0, 0.0, 0.0, 0.0, 0.0, 0.0, 0.0, 0.0, 0.0, 0.0, 0.0, 0.0, 0.0, 0.0, 0.0, 0.0, 0.0]\n"
     ]
    }
   ],
   "source": [
    "# ajeuste del modelo\n",
    "red_keras.fit(trainX, trainY, epochs=20, batch_size=5)\n",
    "\n",
    "# Evaluación del modelo para entrenamiento\n",
    "score = red_keras.evaluate(trainX, trainY)\n",
    "print(\"\\n redes entremaniento keras %s: %.2f%%\" % (red_keras.metrics_names[1], score[1]*100))\n",
    "\n",
    "# Calcular predicción\n",
    "prediccion = red_keras.predict(trainX)\n",
    "redon = [round(x[0]) for x in prediccion]\n",
    "print(redon)"
   ]
  },
  {
   "cell_type": "code",
   "execution_count": 33,
   "metadata": {},
   "outputs": [
    {
     "name": "stdout",
     "output_type": "stream",
     "text": [
      "Epoch 1/20\n",
      "273/273 [==============================] - 2s 9ms/step - loss: 6.4660 - acc: 0.5641\n",
      "Epoch 2/20\n",
      "273/273 [==============================] - 0s 363us/step - loss: 6.0362 - acc: 0.5714\n",
      "Epoch 3/20\n",
      "273/273 [==============================] - 0s 330us/step - loss: 4.0916 - acc: 0.4908\n",
      "Epoch 4/20\n",
      "273/273 [==============================] - 0s 421us/step - loss: 1.6851 - acc: 0.3993\n",
      "Epoch 5/20\n",
      "273/273 [==============================] - 0s 330us/step - loss: 0.9424 - acc: 0.4176\n",
      "Epoch 6/20\n",
      "273/273 [==============================] - 0s 330us/step - loss: 0.7852 - acc: 0.4286\n",
      "Epoch 7/20\n",
      "273/273 [==============================] - 0s 323us/step - loss: 0.7059 - acc: 0.4212\n",
      "Epoch 8/20\n",
      "273/273 [==============================] - ETA: 0s - loss: 0.6685 - acc: 0.570 - 0s 337us/step - loss: 0.6750 - acc: 0.6044\n",
      "Epoch 9/20\n",
      "273/273 [==============================] - 0s 348us/step - loss: 0.6688 - acc: 0.6227\n",
      "Epoch 10/20\n",
      "273/273 [==============================] - 0s 326us/step - loss: 0.6611 - acc: 0.6300\n",
      "Epoch 11/20\n",
      "273/273 [==============================] - 0s 334us/step - loss: 0.6548 - acc: 0.6593\n",
      "Epoch 12/20\n",
      "273/273 [==============================] - 0s 432us/step - loss: 0.6497 - acc: 0.6630\n",
      "Epoch 13/20\n",
      "273/273 [==============================] - 0s 308us/step - loss: 0.6471 - acc: 0.6630\n",
      "Epoch 14/20\n",
      "273/273 [==============================] - 0s 352us/step - loss: 0.6432 - acc: 0.6557\n",
      "Epoch 15/20\n",
      "273/273 [==============================] - 0s 315us/step - loss: 0.6406 - acc: 0.6520\n",
      "Epoch 16/20\n",
      "273/273 [==============================] - 0s 381us/step - loss: 0.6420 - acc: 0.6484\n",
      "Epoch 17/20\n",
      "273/273 [==============================] - 0s 326us/step - loss: 0.6393 - acc: 0.6557\n",
      "Epoch 18/20\n",
      "273/273 [==============================] - 0s 355us/step - loss: 0.6371 - acc: 0.6447\n",
      "Epoch 19/20\n",
      "273/273 [==============================] - 0s 355us/step - loss: 0.6353 - acc: 0.6520\n",
      "Epoch 20/20\n",
      "273/273 [==============================] - 0s 366us/step - loss: 0.6336 - acc: 0.6630\n",
      "69/69 [==============================] - 0s 5ms/step\n",
      "\n",
      " red Prueba keras acc: 66.67%\n",
      "[1.0, 0.0, 1.0, 0.0, 0.0, 1.0, 0.0, 0.0, 0.0, 1.0, 1.0, 0.0, 0.0, 0.0, 1.0, 0.0, 0.0, 0.0, 0.0, 1.0, 0.0, 1.0, 1.0, 0.0, 0.0, 0.0, 1.0, 0.0, 0.0, 0.0, 1.0, 1.0, 0.0, 0.0, 0.0, 1.0, 0.0, 1.0, 0.0, 1.0, 1.0, 0.0, 0.0, 1.0, 0.0, 0.0, 0.0, 1.0, 1.0, 0.0, 1.0, 1.0, 1.0, 0.0, 0.0, 0.0, 0.0, 0.0, 0.0, 0.0, 0.0, 1.0, 1.0, 0.0, 1.0, 0.0, 0.0, 1.0, 0.0]\n"
     ]
    }
   ],
   "source": [
    "# Creamos nuestra red neuronal\n",
    "red_keras1 = Sequential()\n",
    "\n",
    "# se crea la primera capa con 8 entradas y 12 neuronas en la capa oculta\n",
    "red_keras1.add(Dense(12, input_dim=11, activation='relu'))\n",
    "\n",
    "# segunda capa con 8 neuronas\n",
    "red_keras1.add(Dense(8, activation='relu'))\n",
    "\n",
    "# capa de salida con 1 sola neurona\n",
    "red_keras1.add(Dense(1, activation='sigmoid'))\n",
    "\n",
    "# Compilación del modelo\n",
    "red_keras1.compile(loss='binary_crossentropy', optimizer='adam', metrics=['accuracy'])\n",
    "\n",
    "# ajeuste del modelo\n",
    "red_keras1.fit(trainX, trainY, epochs=20,batch_size=10)\n",
    "\n",
    "# Evaluación del modelo para prueba\n",
    "score = red_keras1.evaluate(testX, testY)\n",
    "print(\"\\n red Prueba keras %s: %.2f%%\" % (red_keras1.metrics_names[1], score[1]*100))\n",
    "\n",
    "# Calcular predicción\n",
    "prediccion = red_keras1.predict(testX)\n",
    "redon = [round(x[0]) for x in prediccion]\n",
    "print(redon)"
   ]
  },
  {
   "cell_type": "markdown",
   "metadata": {},
   "source": [
    "# Matrices que Confusion "
   ]
  },
  {
   "cell_type": "code",
   "execution_count": 199,
   "metadata": {},
   "outputs": [
    {
     "name": "stdout",
     "output_type": "stream",
     "text": [
      "Conjunto de entrenamiento\n",
      "[[150   3]\n",
      " [  6 114]]\n",
      "Conjunto de prueba\n",
      "[[27 13]\n",
      " [10 19]]\n"
     ]
    }
   ],
   "source": [
    "# Matrix de confusion para arboles de desición\n",
    "\n",
    "#matrix de confusión conjunto de entrenamiento\n",
    "print(\"Conjunto de entrenamiento\")\n",
    "print(confusion_matrix(arbol_3.predict(trainX), trainY))\n",
    "\n",
    "#matrix de confusión conjunto de prueba\n",
    "print(\"Conjunto de prueba\")\n",
    "print(confusion_matrix(arbol_3.predict(testX), testY))\n"
   ]
  },
  {
   "cell_type": "code",
   "execution_count": 200,
   "metadata": {},
   "outputs": [
    {
     "name": "stdout",
     "output_type": "stream",
     "text": [
      "Conjunto de entrenamiento\n",
      "[[124  23]\n",
      " [ 32  94]]\n",
      "Conjunto de prueba\n",
      "[[28  6]\n",
      " [ 9 26]]\n"
     ]
    }
   ],
   "source": [
    "# Matrix de confusion de Bayes\n",
    "\n",
    "# matrix de confusion de entrenamiento\n",
    "print(\"Conjunto de entrenamiento\")\n",
    "print(confusion_matrix(bayes.predict(trainX), trainY))\n",
    "\n",
    "# matrix de consfusion de prueba\n",
    "print(\"Conjunto de prueba\")\n",
    "print(confusion_matrix(bayes.predict(testX), testY))"
   ]
  },
  {
   "cell_type": "code",
   "execution_count": 202,
   "metadata": {},
   "outputs": [
    {
     "name": "stdout",
     "output_type": "stream",
     "text": [
      "Conjunto de entrenamiento\n",
      "[[156 117]\n",
      " [  0   0]]\n",
      "Conjunto de prueba\n",
      "[[37 32]\n",
      " [ 0  0]]\n"
     ]
    }
   ],
   "source": [
    "# Matrix de confusion de redes neuronales sklearn\n",
    "\n",
    "# matrix de confusion de entrenamiento\n",
    "print(\"Conjunto de entrenamiento\")\n",
    "print(confusion_matrix(neuronal_sk.predict(trainX), trainY))\n",
    "\n",
    "# matrix de consfusion de prueba\n",
    "print(\"Conjunto de prueba\")\n",
    "print(confusion_matrix(neuronal_sk.predict(testX), testY))"
   ]
  }
 ],
 "metadata": {
  "kernelspec": {
   "display_name": "Python 3",
   "language": "python",
   "name": "python3"
  },
  "language_info": {
   "codemirror_mode": {
    "name": "ipython",
    "version": 3
   },
   "file_extension": ".py",
   "mimetype": "text/x-python",
   "name": "python",
   "nbconvert_exporter": "python",
   "pygments_lexer": "ipython3",
   "version": "3.7.3"
  }
 },
 "nbformat": 4,
 "nbformat_minor": 2
}
